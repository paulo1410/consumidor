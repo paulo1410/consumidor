{
 "cells": [
  {
   "cell_type": "code",
   "execution_count": 1,
   "metadata": {},
   "outputs": [],
   "source": [
    "import pandas as pd\n",
    "import numpy as np\n",
    "import csv\n",
    "file_name = \"raw_database.xlsx\"\n",
    "df3 = pd.read_excel(file_name, usecols=(\"A,C,E,G,H,J,K,L,M,N\"), sheet_name=2)\n"
   ]
  },
  {
   "cell_type": "code",
   "execution_count": 2,
   "metadata": {
    "tags": []
   },
   "outputs": [
    {
     "output_type": "stream",
     "name": "stdout",
     "text": "Index(['Unnamed: 0', 'Unnamed: 2', 'Unnamed: 4', 'Unnamed: 6', 'Unnamed: 7',\n       'Unnamed: 9', 'Unnamed: 10', 'Unnamed: 11', 'Unnamed: 12',\n       'Unnamed: 13'],\n      dtype='object')\n"
    }
   ],
   "source": [
    "print(df3.columns)\n"
   ]
  },
  {
   "cell_type": "code",
   "execution_count": 6,
   "metadata": {
    "tags": []
   },
   "outputs": [
    {
     "output_type": "stream",
     "name": "stdout",
     "text": "<class 'pandas.core.frame.DataFrame'>\nRangeIndex: 760426 entries, 0 to 760425\nData columns (total 10 columns):\n #   Column                  Non-Null Count   Dtype  \n---  ------                  --------------   -----  \n 0   Protocolo               760426 non-null  int64  \n 1   Data Finalização        760426 non-null  object \n 2   Fornecedor              760426 non-null  object \n 3   UF do Consumidor        760426 non-null  object \n 4   Cidade do Consumidor    760426 non-null  object \n 5   Relato do Consumidor    760426 non-null  object \n 6   Resposta do Fornecedor  756771 non-null  object \n 7   Texto da Avaliação      335457 non-null  object \n 8   Indicador de solução    458977 non-null  object \n 9   Nota                    458977 non-null  float64\ndtypes: float64(1), int64(1), object(8)\nmemory usage: 58.0+ MB\nNone\n"
    }
   ],
   "source": [
    "df3.columns = [\"Protocolo\", \"Data Finalização\", \"Fornecedor\", \"UF do Consumidor\", \"Cidade do Consumidor\", \n",
    "              \"Relato do Consumidor\", \"Resposta do Fornecedor\", \"Texto da Avaliação\", \n",
    "              \"Indicador de solução\", \"Nota\"]\n",
    "\n",
    "print(df3.info())\n",
    "df3[\"Fornecedor\"]= df3[\"Fornecedor\"].astype('category')\n",
    "df3[\"UF do Consumidor\"]= df3[\"UF do Consumidor\"].astype('category')\n",
    "df3[\"Cidade do Consumidor\"]= df3[\"Cidade do Consumidor\"].astype('category')\n",
    "df3[\"Indicador de solução\"] = df3[\"Indicador de solução\"].astype('category')\n",
    "df3[\"Data Finalização\"] = pd.to_datetime(df3[\"Data Finalização\"], format='%d/%m/%Y %H:%M:%S')\n",
    "\n"
   ]
  },
  {
   "cell_type": "code",
   "execution_count": 7,
   "metadata": {
    "tags": []
   },
   "outputs": [
    {
     "output_type": "stream",
     "name": "stdout",
     "text": "Protocolo                          int64\nData Finalização          datetime64[ns]\nFornecedor                      category\nUF do Consumidor                category\nCidade do Consumidor            category\nRelato do Consumidor              object\nResposta do Fornecedor            object\nTexto da Avaliação                object\nIndicador de solução            category\nNota                             float64\ndtype: object\n0        2017-07-26 21:35:36\n1        2017-07-26 21:35:35\n2        2017-07-26 21:35:24\n3        2017-07-26 21:35:06\n4        2017-07-26 21:33:21\n                 ...        \n760421   2014-05-09 23:54:52\n760422   2014-05-09 10:49:20\n760423   2014-05-08 21:42:44\n760424   2014-05-08 18:17:19\n760425   2014-05-07 18:53:53\nName: Data Finalização, Length: 760426, dtype: datetime64[ns]\n"
    }
   ],
   "source": [
    "print(df3.dtypes)\n",
    "print(df3[\"Data Finalização\"])"
   ]
  },
  {
   "cell_type": "code",
   "execution_count": 8,
   "metadata": {},
   "outputs": [
    {
     "output_type": "execute_result",
     "data": {
      "text/plain": "                Protocolo    Data Finalização  \\\n0       20170700000853852 2017-07-26 21:35:36   \n1       20170700000855092 2017-07-26 21:35:35   \n2       20170700000832732 2017-07-26 21:35:24   \n3       20170700000853868 2017-07-26 21:35:06   \n4       20170700000843296 2017-07-26 21:33:21   \n...                   ...                 ...   \n760421   2014050000000813 2014-05-09 23:54:52   \n760422   2014050000000806 2014-05-09 10:49:20   \n760423   2014050000000802 2014-05-08 21:42:44   \n760424   2014050000000805 2014-05-08 18:17:19   \n760425   2014050000000801 2014-05-07 18:53:53   \n\n                                               Fornecedor UF do Consumidor  \\\n0                                              Serasa S/A               SP   \n1                                              Serasa S/A               SP   \n2                            BP Promotora de Vendas Ltda.               AL   \n3       BOA VISTA SERVIÇOS S.A. - SCPC SERVIÇO CENTRAL...               SP   \n4                                   Banco Bradescard S.A.               SP   \n...                                                   ...              ...   \n760421                           Sky Brasil Serviços Ltda               RJ   \n760422                              Telefonica Brasil S/A               RJ   \n760423                                           Tim S.A.               RJ   \n760424                                         Claro S.A.               RJ   \n760425                                           Tim S.A.               DF   \n\n       Cidade do Consumidor  \\\n0                 São Paulo   \n1           Várzea Paulista   \n2                    Maceió   \n3                 São Paulo   \n4                 São Paulo   \n...                     ...   \n760421          Nova Iguaçu   \n760422       Rio de Janeiro   \n760423       Rio de Janeiro   \n760424       Rio de Janeiro   \n760425             Brasília   \n\n                                     Relato do Consumidor  \\\n0       Boa Tarde. Minha pontuação no serasa nunca fic...   \n1       Desejo que meus dados de consultas do meu CPF ...   \n2       Fiz um financiamento no Bradesco onde o juros ...   \n3       Boa Tarde. minha pontuação caiu mais d 200 pon...   \n4       ATENÇÃO! \\r\\nPara garantir sua privacidade e s...   \n...                                                   ...   \n760421  No dia 21/04/2014 liguei para a empresa e pedi...   \n760422  Em 20/12/2013 fui a loja da vivo  código RJL00...   \n760423  Recebi no dia 09/01/2014 um sms em meu tel., q...   \n760424  Sou Cliente da Claro Empresas desde 1997. Aqua...   \n760425  Dificuldade para acessar a internet em várias ...   \n\n                                   Resposta do Fornecedor  \\\n0       Senhora Nayani,\\r\\n\\r\\nA resposta à sua solici...   \n1       Sr. Ronaldo, bom dia.\\r\\n\\r\\nA resposta à sua ...   \n2       Prezada Sra. Elayne. Conforme contato por e-ma...   \n3       Prezado (a)  Senhor (a),\\r\\n\\r\\nPara segurança...   \n4       Prezada Sr.ª Paloma. Conforme contato por tele...   \n...                                                   ...   \n760421  A empresa informa que entrou em contato com o ...   \n760422  Contatamos LUIZ CARLOS DA COSTA SALGADO em 09/...   \n760423   Sua demanda foi concluída no dia 07/05/2014 a...   \n760424  Sr. Luiz\\r\\n\\r\\nEm atenção à reclamação sobre ...   \n760425   Sua demanda foi concluída no dia 07/05/2014  ...   \n\n                                       Texto da Avaliação  \\\n0                                                     NaN   \n1                                                     NaN   \n2       Não foi resolvida e totalmente sem nenhum comp...   \n3                                                     NaN   \n4       Não aceito tal argumentação da Bradescard, uma...   \n...                                                   ...   \n760421  Embora não esteja especificado na resposta tud...   \n760422  Agradeço a solução definitiva do problema e co...   \n760423  O atendimento através do Site foi muito bom ma...   \n760424  Sobre a contestação de dados excedentes, escla...   \n760425                                                NaN   \n\n       Indicador de solução  Nota  \n0                         S   4.0  \n1                         S   4.0  \n2                         N   1.0  \n3                         S   4.0  \n4                         N   1.0  \n...                     ...   ...  \n760421                    S   5.0  \n760422                    S   4.0  \n760423                    S   5.0  \n760424                    S   4.0  \n760425                    S   5.0  \n\n[760426 rows x 10 columns]",
      "text/html": "<div>\n<style scoped>\n    .dataframe tbody tr th:only-of-type {\n        vertical-align: middle;\n    }\n\n    .dataframe tbody tr th {\n        vertical-align: top;\n    }\n\n    .dataframe thead th {\n        text-align: right;\n    }\n</style>\n<table border=\"1\" class=\"dataframe\">\n  <thead>\n    <tr style=\"text-align: right;\">\n      <th></th>\n      <th>Protocolo</th>\n      <th>Data Finalização</th>\n      <th>Fornecedor</th>\n      <th>UF do Consumidor</th>\n      <th>Cidade do Consumidor</th>\n      <th>Relato do Consumidor</th>\n      <th>Resposta do Fornecedor</th>\n      <th>Texto da Avaliação</th>\n      <th>Indicador de solução</th>\n      <th>Nota</th>\n    </tr>\n  </thead>\n  <tbody>\n    <tr>\n      <th>0</th>\n      <td>20170700000853852</td>\n      <td>2017-07-26 21:35:36</td>\n      <td>Serasa S/A</td>\n      <td>SP</td>\n      <td>São Paulo</td>\n      <td>Boa Tarde. Minha pontuação no serasa nunca fic...</td>\n      <td>Senhora Nayani,\\r\\n\\r\\nA resposta à sua solici...</td>\n      <td>NaN</td>\n      <td>S</td>\n      <td>4.0</td>\n    </tr>\n    <tr>\n      <th>1</th>\n      <td>20170700000855092</td>\n      <td>2017-07-26 21:35:35</td>\n      <td>Serasa S/A</td>\n      <td>SP</td>\n      <td>Várzea Paulista</td>\n      <td>Desejo que meus dados de consultas do meu CPF ...</td>\n      <td>Sr. Ronaldo, bom dia.\\r\\n\\r\\nA resposta à sua ...</td>\n      <td>NaN</td>\n      <td>S</td>\n      <td>4.0</td>\n    </tr>\n    <tr>\n      <th>2</th>\n      <td>20170700000832732</td>\n      <td>2017-07-26 21:35:24</td>\n      <td>BP Promotora de Vendas Ltda.</td>\n      <td>AL</td>\n      <td>Maceió</td>\n      <td>Fiz um financiamento no Bradesco onde o juros ...</td>\n      <td>Prezada Sra. Elayne. Conforme contato por e-ma...</td>\n      <td>Não foi resolvida e totalmente sem nenhum comp...</td>\n      <td>N</td>\n      <td>1.0</td>\n    </tr>\n    <tr>\n      <th>3</th>\n      <td>20170700000853868</td>\n      <td>2017-07-26 21:35:06</td>\n      <td>BOA VISTA SERVIÇOS S.A. - SCPC SERVIÇO CENTRAL...</td>\n      <td>SP</td>\n      <td>São Paulo</td>\n      <td>Boa Tarde. minha pontuação caiu mais d 200 pon...</td>\n      <td>Prezado (a)  Senhor (a),\\r\\n\\r\\nPara segurança...</td>\n      <td>NaN</td>\n      <td>S</td>\n      <td>4.0</td>\n    </tr>\n    <tr>\n      <th>4</th>\n      <td>20170700000843296</td>\n      <td>2017-07-26 21:33:21</td>\n      <td>Banco Bradescard S.A.</td>\n      <td>SP</td>\n      <td>São Paulo</td>\n      <td>ATENÇÃO! \\r\\nPara garantir sua privacidade e s...</td>\n      <td>Prezada Sr.ª Paloma. Conforme contato por tele...</td>\n      <td>Não aceito tal argumentação da Bradescard, uma...</td>\n      <td>N</td>\n      <td>1.0</td>\n    </tr>\n    <tr>\n      <th>...</th>\n      <td>...</td>\n      <td>...</td>\n      <td>...</td>\n      <td>...</td>\n      <td>...</td>\n      <td>...</td>\n      <td>...</td>\n      <td>...</td>\n      <td>...</td>\n      <td>...</td>\n    </tr>\n    <tr>\n      <th>760421</th>\n      <td>2014050000000813</td>\n      <td>2014-05-09 23:54:52</td>\n      <td>Sky Brasil Serviços Ltda</td>\n      <td>RJ</td>\n      <td>Nova Iguaçu</td>\n      <td>No dia 21/04/2014 liguei para a empresa e pedi...</td>\n      <td>A empresa informa que entrou em contato com o ...</td>\n      <td>Embora não esteja especificado na resposta tud...</td>\n      <td>S</td>\n      <td>5.0</td>\n    </tr>\n    <tr>\n      <th>760422</th>\n      <td>2014050000000806</td>\n      <td>2014-05-09 10:49:20</td>\n      <td>Telefonica Brasil S/A</td>\n      <td>RJ</td>\n      <td>Rio de Janeiro</td>\n      <td>Em 20/12/2013 fui a loja da vivo  código RJL00...</td>\n      <td>Contatamos LUIZ CARLOS DA COSTA SALGADO em 09/...</td>\n      <td>Agradeço a solução definitiva do problema e co...</td>\n      <td>S</td>\n      <td>4.0</td>\n    </tr>\n    <tr>\n      <th>760423</th>\n      <td>2014050000000802</td>\n      <td>2014-05-08 21:42:44</td>\n      <td>Tim S.A.</td>\n      <td>RJ</td>\n      <td>Rio de Janeiro</td>\n      <td>Recebi no dia 09/01/2014 um sms em meu tel., q...</td>\n      <td>Sua demanda foi concluída no dia 07/05/2014 a...</td>\n      <td>O atendimento através do Site foi muito bom ma...</td>\n      <td>S</td>\n      <td>5.0</td>\n    </tr>\n    <tr>\n      <th>760424</th>\n      <td>2014050000000805</td>\n      <td>2014-05-08 18:17:19</td>\n      <td>Claro S.A.</td>\n      <td>RJ</td>\n      <td>Rio de Janeiro</td>\n      <td>Sou Cliente da Claro Empresas desde 1997. Aqua...</td>\n      <td>Sr. Luiz\\r\\n\\r\\nEm atenção à reclamação sobre ...</td>\n      <td>Sobre a contestação de dados excedentes, escla...</td>\n      <td>S</td>\n      <td>4.0</td>\n    </tr>\n    <tr>\n      <th>760425</th>\n      <td>2014050000000801</td>\n      <td>2014-05-07 18:53:53</td>\n      <td>Tim S.A.</td>\n      <td>DF</td>\n      <td>Brasília</td>\n      <td>Dificuldade para acessar a internet em várias ...</td>\n      <td>Sua demanda foi concluída no dia 07/05/2014  ...</td>\n      <td>NaN</td>\n      <td>S</td>\n      <td>5.0</td>\n    </tr>\n  </tbody>\n</table>\n<p>760426 rows × 10 columns</p>\n</div>"
     },
     "metadata": {},
     "execution_count": 8
    }
   ],
   "source": [
    "df3"
   ]
  },
  {
   "cell_type": "code",
   "execution_count": 30,
   "metadata": {
    "tags": []
   },
   "outputs": [
    {
     "output_type": "stream",
     "name": "stdout",
     "text": "250431\n288603\n184241\n37151\n"
    }
   ],
   "source": [
    "anos = [2017,2016,2015,2014]\n",
    "mask={}\n",
    "for ano in anos:\n",
    "    mask['ano_'+str(ano)]= df3[\"Data Finalização\"].between(str(ano)+'-01-01 00:00:01', str(ano)+'-12-31 23:59:59')\n",
    "    print (len(df3[mask['ano_'+str(ano)]]))\n",
    "\n"
   ]
  },
  {
   "cell_type": "code",
   "execution_count": null,
   "metadata": {},
   "outputs": [],
   "source": [
    "\"\"\" ano_2017 = (df3[\"Data Finalização\"].between(str(anos[0])+'-01-01 00:00:01', str(anos[0])+'-12-31 23:59:59'))\n",
    "ano_2016 = (df3[\"Data Finalização\"].between(str(ano2)+'-01-01 00:00:01', str(ano2)+'-12-31 23:59:59'))\n",
    "ano_2015 = (df3[\"Data Finalização\"].between(str(ano3)+'-01-01 00:00:01', str(ano3)+'-12-31 23:59:59'))\n",
    "ano_2014 = (df3[\"Data Finalização\"].between(str(ano4)+'-01-01 00:00:01', str(ano4)+'-12-31 23:59:59'))\n",
    " \"\"\"\n"
   ]
  },
  {
   "cell_type": "code",
   "execution_count": null,
   "metadata": {},
   "outputs": [],
   "source": [
    "for i in anos:\n",
    "    print(len(df['ano_'+i]))"
   ]
  },
  {
   "cell_type": "code",
   "execution_count": null,
   "metadata": {},
   "outputs": [],
   "source": [
    "\n",
    "df3[ano_2017].to_excel(\"2017_p2.xlsx\", encoding = \"utf-8\", index=False)\n",
    "df3[ano_2016].to_excel(\"2016.xlsx\", encoding = \"utf-8\", index=False)\n",
    "df3[ano_2015].to_excel(\"2015.xlsx\", encoding = \"utf-8\", index=False)\n",
    "df3[ano_2014].to_excel(\"2014.xlsx\", encoding = \"utf-8\", index=False)"
   ]
  }
 ],
 "metadata": {
  "kernelspec": {
   "display_name": "bi_env",
   "language": "python",
   "name": "bi_env"
  },
  "language_info": {
   "codemirror_mode": {
    "name": "ipython",
    "version": 3
   },
   "file_extension": ".py",
   "mimetype": "text/x-python",
   "name": "python",
   "nbconvert_exporter": "python",
   "pygments_lexer": "ipython3",
   "version": "3.7.7"
  }
 },
 "nbformat": 4,
 "nbformat_minor": 4
}