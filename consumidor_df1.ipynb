{
 "cells": [
  {
   "cell_type": "code",
   "execution_count": 116,
   "metadata": {},
   "outputs": [],
   "source": [
    "import pandas as pd\n",
    "import numpy as np\n",
    "import csv\n",
    "file_name = \"raw_database.xlsx\""
   ]
  },
  {
   "cell_type": "code",
   "execution_count": 117,
   "metadata": {},
   "outputs": [],
   "source": [
    "df1 = pd.read_excel(file_name, usecols=(\"A,C,E,G,H,J,K,L,M,N\"), sheet_name=0)\n"
   ]
  },
  {
   "cell_type": "code",
   "execution_count": null,
   "metadata": {},
   "outputs": [],
   "source": [
    "df1.columns"
   ]
  },
  {
   "cell_type": "code",
   "execution_count": 120,
   "metadata": {},
   "outputs": [],
   "source": [
    "df1.columns = [\"Protocolo\", \"Data Finalização\", \"Fornecedor\", \"UF do Consumidor\", \"Cidade do Consumidor\", \n",
    "              \"Relato do Consumidor\", \"Resposta do Fornecedor\", \"Texto da Avaliação\", \n",
    "              \"Indicador de solução\", \"Nota\"]"
   ]
  },
  {
   "cell_type": "code",
   "execution_count": 121,
   "metadata": {},
   "outputs": [
    {
     "output_type": "execute_result",
     "data": {
      "text/plain": "0          24/06/2020 00:51:33\n1          24/06/2020 00:48:53\n2          24/06/2020 00:48:30\n3          24/06/2020 00:47:38\n4          24/06/2020 00:47:35\n                  ...         \n1047996    24/04/2019 00:05:15\n1047997    24/04/2019 00:05:15\n1047998    24/04/2019 00:05:15\n1047999    24/04/2019 00:05:15\n1048000    24/04/2019 00:05:15\nName: Data Finalização, Length: 1048001, dtype: object"
     },
     "metadata": {},
     "execution_count": 121
    }
   ],
   "source": [
    "#verificar formato da data\n",
    "df1[\"Data Finalização\"]"
   ]
  },
  {
   "cell_type": "code",
   "execution_count": 122,
   "metadata": {
    "tags": []
   },
   "outputs": [
    {
     "output_type": "stream",
     "name": "stdout",
     "text": "<class 'pandas.core.frame.DataFrame'>\nRangeIndex: 1048001 entries, 0 to 1048000\nData columns (total 10 columns):\n #   Column                  Non-Null Count    Dtype  \n---  ------                  --------------    -----  \n 0   Protocolo               1048001 non-null  int64  \n 1   Data Finalização        1048001 non-null  object \n 2   Fornecedor              1048001 non-null  object \n 3   UF do Consumidor        1048001 non-null  object \n 4   Cidade do Consumidor    1048001 non-null  object \n 5   Relato do Consumidor    1048001 non-null  object \n 6   Resposta do Fornecedor  1036233 non-null  object \n 7   Texto da Avaliação      391628 non-null   object \n 8   Indicador de solução    584549 non-null   object \n 9   Nota                    584549 non-null   float64\ndtypes: float64(1), int64(1), object(8)\nmemory usage: 80.0+ MB\n"
    }
   ],
   "source": [
    "df1.info()"
   ]
  },
  {
   "cell_type": "code",
   "execution_count": 123,
   "metadata": {},
   "outputs": [],
   "source": [
    "df1[\"Fornecedor\"]= df1[\"Fornecedor\"].astype('category')\n",
    "df1[\"UF do Consumidor\"]= df1[\"UF do Consumidor\"].astype('category')\n",
    "df1[\"Cidade do Consumidor\"]= df1[\"Cidade do Consumidor\"].astype('category')\n",
    "df1[\"Indicador de solução\"] = df1[\"Indicador de solução\"].astype('category')\n",
    "df1[\"Data Finalização\"] = pd.to_datetime(df1[\"Data Finalização\"], format='%d/%m/%Y %H:%M:%S')"
   ]
  },
  {
   "cell_type": "code",
   "execution_count": 124,
   "metadata": {},
   "outputs": [
    {
     "output_type": "execute_result",
     "data": {
      "text/plain": "Protocolo                          int64\nData Finalização          datetime64[ns]\nFornecedor                      category\nUF do Consumidor                category\nCidade do Consumidor            category\nRelato do Consumidor              object\nResposta do Fornecedor            object\nTexto da Avaliação                object\nIndicador de solução            category\nNota                             float64\ndtype: object"
     },
     "metadata": {},
     "execution_count": 124
    }
   ],
   "source": [
    "df1.dtypes"
   ]
  },
  {
   "cell_type": "code",
   "execution_count": 126,
   "metadata": {},
   "outputs": [],
   "source": [
    "data = df1[\"Data Finalização\"].dt.date"
   ]
  },
  {
   "cell_type": "code",
   "execution_count": 127,
   "metadata": {},
   "outputs": [
    {
     "output_type": "execute_result",
     "data": {
      "text/plain": "0         2020-06-24 00:51:33\n1         2020-06-24 00:48:53\n2         2020-06-24 00:48:30\n3         2020-06-24 00:47:38\n4         2020-06-24 00:47:35\n                  ...        \n1047996   2019-04-24 00:05:15\n1047997   2019-04-24 00:05:15\n1047998   2019-04-24 00:05:15\n1047999   2019-04-24 00:05:15\n1048000   2019-04-24 00:05:15\nName: Data Finalização, Length: 1048001, dtype: datetime64[ns]"
     },
     "metadata": {},
     "execution_count": 127
    }
   ],
   "source": [
    "df1[\"Data Finalização\"]"
   ]
  },
  {
   "cell_type": "code",
   "execution_count": 128,
   "metadata": {},
   "outputs": [],
   "source": [
    "ano_2020 = (df1[\"Data Finalização\"].between('2020-01-01 00:00:01', '2020-12-31 23:59:59'))\n",
    "ano_2019 = (df1[\"Data Finalização\"].between('2019-01-01 00:00:01', '2019-12-31 23:59:59'))\n"
   ]
  },
  {
   "cell_type": "code",
   "execution_count": 130,
   "metadata": {},
   "outputs": [
    {
     "output_type": "execute_result",
     "data": {
      "text/plain": "Empty DataFrame\nColumns: [Protocolo, Data Finalização, Fornecedor, UF do Consumidor, Cidade do Consumidor, Relato do Consumidor, Resposta do Fornecedor, Texto da Avaliação, Indicador de solução, Nota]\nIndex: []",
      "text/html": "<div>\n<style scoped>\n    .dataframe tbody tr th:only-of-type {\n        vertical-align: middle;\n    }\n\n    .dataframe tbody tr th {\n        vertical-align: top;\n    }\n\n    .dataframe thead th {\n        text-align: right;\n    }\n</style>\n<table border=\"1\" class=\"dataframe\">\n  <thead>\n    <tr style=\"text-align: right;\">\n      <th></th>\n      <th>Protocolo</th>\n      <th>Data Finalização</th>\n      <th>Fornecedor</th>\n      <th>UF do Consumidor</th>\n      <th>Cidade do Consumidor</th>\n      <th>Relato do Consumidor</th>\n      <th>Resposta do Fornecedor</th>\n      <th>Texto da Avaliação</th>\n      <th>Indicador de solução</th>\n      <th>Nota</th>\n    </tr>\n  </thead>\n  <tbody>\n  </tbody>\n</table>\n</div>"
     },
     "metadata": {},
     "execution_count": 130
    }
   ],
   "source": [
    "df1[ano_2020 & ano_2019]\n",
    "#df1[~ano_2019]"
   ]
  },
  {
   "cell_type": "code",
   "execution_count": 131,
   "metadata": {},
   "outputs": [],
   "source": [
    "df_2019=df1[ano_2019]\n",
    "df_2020=df1[ano_2020]\n"
   ]
  },
  {
   "cell_type": "code",
   "execution_count": 132,
   "metadata": {},
   "outputs": [
    {
     "output_type": "execute_result",
     "data": {
      "text/plain": "562476"
     },
     "metadata": {},
     "execution_count": 132
    }
   ],
   "source": [
    "len(df_2019)"
   ]
  },
  {
   "cell_type": "code",
   "execution_count": 133,
   "metadata": {},
   "outputs": [
    {
     "output_type": "execute_result",
     "data": {
      "text/plain": "485525"
     },
     "metadata": {},
     "execution_count": 133
    }
   ],
   "source": [
    "len(df_2020)"
   ]
  },
  {
   "cell_type": "code",
   "execution_count": 134,
   "metadata": {},
   "outputs": [
    {
     "output_type": "execute_result",
     "data": {
      "text/plain": "1048001"
     },
     "metadata": {},
     "execution_count": 134
    }
   ],
   "source": [
    "len(df_2019) + len(df_2020)"
   ]
  },
  {
   "cell_type": "code",
   "execution_count": 136,
   "metadata": {},
   "outputs": [
    {
     "output_type": "execute_result",
     "data": {
      "text/plain": "                Protocolo    Data Finalização  \\\n0       20200500003099292 2020-06-24 00:51:33   \n1       20200600003212008 2020-06-24 00:48:53   \n2       20200600003131072 2020-06-24 00:48:30   \n3       20200600003169104 2020-06-24 00:47:38   \n4       20200500003100052 2020-06-24 00:47:35   \n...                   ...                 ...   \n485520  20191200002592792 2020-01-01 00:04:03   \n485521  20191200002583084 2020-01-01 00:04:03   \n485522  20191200002583948 2020-01-01 00:04:03   \n485523  20191200002597548 2020-01-01 00:04:03   \n485524  20191200002592488 2020-01-01 00:04:03   \n\n                                           Fornecedor UF do Consumidor  \\\n0              Nova Pontocom Comércio Eletrônico S.A.               RJ   \n1                                          Claro S.A.               AC   \n2       EDP ESPIRITO SANTO DISTRIBUIÇÃO DE ENERGIA SA               ES   \n3         Empresa Brasileira de Correios e Telégrafos               SP   \n4                                 Lojas Riachuelo S/A               RJ   \n...                                               ...              ...   \n485520                            Banco Bradesco S.A.               PB   \n485521                            Banco Bradesco S.A.               PB   \n485522                            Banco Bradesco S.A.               PB   \n485523                            Banco Bradesco S.A.               PB   \n485524                            Banco Bradesco S.A.               PB   \n\n       Cidade do Consumidor  \\\n0                 Cabo Frio   \n1                Rio Branco   \n2                 Cariacica   \n3                 São Paulo   \n4            Rio de Janeiro   \n...                     ...   \n485520          João Pessoa   \n485521       Campina Grande   \n485522          João Pessoa   \n485523             Cabedelo   \n485524          João Pessoa   \n\n                                     Relato do Consumidor  \\\n0       Fiz a compra de uma cafeteira expresso em Jan ...   \n1       Possuo plano telefônico com a Claro, sendo 1 l...   \n2       Eu realizei solicitação de Tarifa Social na mi...   \n3       varias tentativas de ligações porém ninguém at...   \n4       Meu. pedido está para retirada em agência de c...   \n...                                                   ...   \n485520  Possuo saldo devedor junto a reclamada, Banco ...   \n485521  Bom dia , queria que vocês mandasse propostas ...   \n485522  Possuo saldo devedor, gerando assim, negativaç...   \n485523  Possuo saldo devedor, gerando assim, negativaç...   \n485524  VENHO ATRAVES DO PORTAL DO CONSUMIDOR.GOV.BR.P...   \n\n                                   Resposta do Fornecedor  \\\n0       Prezado Sr. Wagner\\r\\n\\r\\nPrimeiramente pedimo...   \n1       Sr.(a)  Vanessa,\\r\\n\\r\\n \\r\\n\\r\\nEm atenção à ...   \n2       Prezada Senhora Maria Celeste,\\r\\n\\r\\nEm atenç...   \n3       Prezado(a) consumidor(a),\\r\\n\\r\\nPedimos descu...   \n4       Boa tarde, Tatiane!\\r\\n\\r\\nPrimeiramente quero...   \n...                                                   ...   \n485520  Prezado (a), realizamos tentativas de contato ...   \n485521  Prezado (a). Conforme contato telefônico, ofer...   \n485522  Prezado. Conforme contato telefônico, oferecem...   \n485523  Prezado (a), realizamos tentativas de contato ...   \n485524  Prezado (a). Conforme contato telefônico, ofer...   \n\n                                       Texto da Avaliação  \\\n0       A empresa até o presente momento não efetuou a...   \n1                            Atendimento rápido e eficaz.   \n2                                                     NaN   \n3       o produto já chegou mas o incomodo não foi a d...   \n4       Essa empresa eh uma vergonha!!!!!\\r\\nMilhares ...   \n...                                                   ...   \n485520                                                NaN   \n485521                                                NaN   \n485522                                                NaN   \n485523                                                NaN   \n485524                                                NaN   \n\n       Indicador de solução  Nota  \n0                         N   1.0  \n1                         S   4.0  \n2                         S   5.0  \n3                         S   5.0  \n4                         N   1.0  \n...                     ...   ...  \n485520                  NaN   NaN  \n485521                  NaN   NaN  \n485522                  NaN   NaN  \n485523                  NaN   NaN  \n485524                  NaN   NaN  \n\n[485525 rows x 10 columns]",
      "text/html": "<div>\n<style scoped>\n    .dataframe tbody tr th:only-of-type {\n        vertical-align: middle;\n    }\n\n    .dataframe tbody tr th {\n        vertical-align: top;\n    }\n\n    .dataframe thead th {\n        text-align: right;\n    }\n</style>\n<table border=\"1\" class=\"dataframe\">\n  <thead>\n    <tr style=\"text-align: right;\">\n      <th></th>\n      <th>Protocolo</th>\n      <th>Data Finalização</th>\n      <th>Fornecedor</th>\n      <th>UF do Consumidor</th>\n      <th>Cidade do Consumidor</th>\n      <th>Relato do Consumidor</th>\n      <th>Resposta do Fornecedor</th>\n      <th>Texto da Avaliação</th>\n      <th>Indicador de solução</th>\n      <th>Nota</th>\n    </tr>\n  </thead>\n  <tbody>\n    <tr>\n      <th>0</th>\n      <td>20200500003099292</td>\n      <td>2020-06-24 00:51:33</td>\n      <td>Nova Pontocom Comércio Eletrônico S.A.</td>\n      <td>RJ</td>\n      <td>Cabo Frio</td>\n      <td>Fiz a compra de uma cafeteira expresso em Jan ...</td>\n      <td>Prezado Sr. Wagner\\r\\n\\r\\nPrimeiramente pedimo...</td>\n      <td>A empresa até o presente momento não efetuou a...</td>\n      <td>N</td>\n      <td>1.0</td>\n    </tr>\n    <tr>\n      <th>1</th>\n      <td>20200600003212008</td>\n      <td>2020-06-24 00:48:53</td>\n      <td>Claro S.A.</td>\n      <td>AC</td>\n      <td>Rio Branco</td>\n      <td>Possuo plano telefônico com a Claro, sendo 1 l...</td>\n      <td>Sr.(a)  Vanessa,\\r\\n\\r\\n \\r\\n\\r\\nEm atenção à ...</td>\n      <td>Atendimento rápido e eficaz.</td>\n      <td>S</td>\n      <td>4.0</td>\n    </tr>\n    <tr>\n      <th>2</th>\n      <td>20200600003131072</td>\n      <td>2020-06-24 00:48:30</td>\n      <td>EDP ESPIRITO SANTO DISTRIBUIÇÃO DE ENERGIA SA</td>\n      <td>ES</td>\n      <td>Cariacica</td>\n      <td>Eu realizei solicitação de Tarifa Social na mi...</td>\n      <td>Prezada Senhora Maria Celeste,\\r\\n\\r\\nEm atenç...</td>\n      <td>NaN</td>\n      <td>S</td>\n      <td>5.0</td>\n    </tr>\n    <tr>\n      <th>3</th>\n      <td>20200600003169104</td>\n      <td>2020-06-24 00:47:38</td>\n      <td>Empresa Brasileira de Correios e Telégrafos</td>\n      <td>SP</td>\n      <td>São Paulo</td>\n      <td>varias tentativas de ligações porém ninguém at...</td>\n      <td>Prezado(a) consumidor(a),\\r\\n\\r\\nPedimos descu...</td>\n      <td>o produto já chegou mas o incomodo não foi a d...</td>\n      <td>S</td>\n      <td>5.0</td>\n    </tr>\n    <tr>\n      <th>4</th>\n      <td>20200500003100052</td>\n      <td>2020-06-24 00:47:35</td>\n      <td>Lojas Riachuelo S/A</td>\n      <td>RJ</td>\n      <td>Rio de Janeiro</td>\n      <td>Meu. pedido está para retirada em agência de c...</td>\n      <td>Boa tarde, Tatiane!\\r\\n\\r\\nPrimeiramente quero...</td>\n      <td>Essa empresa eh uma vergonha!!!!!\\r\\nMilhares ...</td>\n      <td>N</td>\n      <td>1.0</td>\n    </tr>\n    <tr>\n      <th>...</th>\n      <td>...</td>\n      <td>...</td>\n      <td>...</td>\n      <td>...</td>\n      <td>...</td>\n      <td>...</td>\n      <td>...</td>\n      <td>...</td>\n      <td>...</td>\n      <td>...</td>\n    </tr>\n    <tr>\n      <th>485520</th>\n      <td>20191200002592792</td>\n      <td>2020-01-01 00:04:03</td>\n      <td>Banco Bradesco S.A.</td>\n      <td>PB</td>\n      <td>João Pessoa</td>\n      <td>Possuo saldo devedor junto a reclamada, Banco ...</td>\n      <td>Prezado (a), realizamos tentativas de contato ...</td>\n      <td>NaN</td>\n      <td>NaN</td>\n      <td>NaN</td>\n    </tr>\n    <tr>\n      <th>485521</th>\n      <td>20191200002583084</td>\n      <td>2020-01-01 00:04:03</td>\n      <td>Banco Bradesco S.A.</td>\n      <td>PB</td>\n      <td>Campina Grande</td>\n      <td>Bom dia , queria que vocês mandasse propostas ...</td>\n      <td>Prezado (a). Conforme contato telefônico, ofer...</td>\n      <td>NaN</td>\n      <td>NaN</td>\n      <td>NaN</td>\n    </tr>\n    <tr>\n      <th>485522</th>\n      <td>20191200002583948</td>\n      <td>2020-01-01 00:04:03</td>\n      <td>Banco Bradesco S.A.</td>\n      <td>PB</td>\n      <td>João Pessoa</td>\n      <td>Possuo saldo devedor, gerando assim, negativaç...</td>\n      <td>Prezado. Conforme contato telefônico, oferecem...</td>\n      <td>NaN</td>\n      <td>NaN</td>\n      <td>NaN</td>\n    </tr>\n    <tr>\n      <th>485523</th>\n      <td>20191200002597548</td>\n      <td>2020-01-01 00:04:03</td>\n      <td>Banco Bradesco S.A.</td>\n      <td>PB</td>\n      <td>Cabedelo</td>\n      <td>Possuo saldo devedor, gerando assim, negativaç...</td>\n      <td>Prezado (a), realizamos tentativas de contato ...</td>\n      <td>NaN</td>\n      <td>NaN</td>\n      <td>NaN</td>\n    </tr>\n    <tr>\n      <th>485524</th>\n      <td>20191200002592488</td>\n      <td>2020-01-01 00:04:03</td>\n      <td>Banco Bradesco S.A.</td>\n      <td>PB</td>\n      <td>João Pessoa</td>\n      <td>VENHO ATRAVES DO PORTAL DO CONSUMIDOR.GOV.BR.P...</td>\n      <td>Prezado (a). Conforme contato telefônico, ofer...</td>\n      <td>NaN</td>\n      <td>NaN</td>\n      <td>NaN</td>\n    </tr>\n  </tbody>\n</table>\n<p>485525 rows × 10 columns</p>\n</div>"
     },
     "metadata": {},
     "execution_count": 136
    }
   ],
   "source": [
    "df_2020"
   ]
  },
  {
   "cell_type": "code",
   "execution_count": 43,
   "metadata": {},
   "outputs": [
    {
     "output_type": "execute_result",
     "data": {
      "text/plain": "1048001"
     },
     "metadata": {},
     "execution_count": 43
    }
   ],
   "source": [
    "len(df1)"
   ]
  },
  {
   "cell_type": "code",
   "execution_count": 137,
   "metadata": {},
   "outputs": [],
   "source": [
    "df_2019.to_excel(\"2019.xlsx\", encoding = \"utf-8\", index=False)"
   ]
  },
  {
   "cell_type": "code",
   "execution_count": 138,
   "metadata": {},
   "outputs": [],
   "source": [
    "df_2020.to_excel(\"2020.xlsx\", encoding = \"utf-8\", index=False)"
   ]
  },
  {
   "cell_type": "code",
   "execution_count": null,
   "metadata": {},
   "outputs": [],
   "source": []
  }
 ],
 "metadata": {
  "kernelspec": {
   "display_name": "Python 3.7.7 64-bit ('BI_env': conda)",
   "language": "python",
   "name": "python_defaultSpec_1593820443292"
  },
  "language_info": {
   "codemirror_mode": {
    "name": "ipython",
    "version": 3
   },
   "file_extension": ".py",
   "mimetype": "text/x-python",
   "name": "python",
   "nbconvert_exporter": "python",
   "pygments_lexer": "ipython3",
   "version": "3.7.7-final"
  }
 },
 "nbformat": 4,
 "nbformat_minor": 2
}