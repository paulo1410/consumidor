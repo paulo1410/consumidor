{
 "cells": [
  {
   "cell_type": "code",
   "execution_count": 1,
   "metadata": {
    "scrolled": true
   },
   "outputs": [],
   "source": [
    "import pandas as pd\n",
    "import numpy as np\n",
    "file_name = \"raw_database.xlsx\""
   ]
  },
  {
   "cell_type": "code",
   "execution_count": 2,
   "metadata": {},
   "outputs": [],
   "source": [
    "df2 = pd.read_excel(file_name, usecols=(\"A,C,E,G,H,J,K,L,M,N\"), sheet_name=1)"
   ]
  },
  {
   "cell_type": "code",
   "execution_count": 3,
   "metadata": {},
   "outputs": [
    {
     "output_type": "execute_result",
     "data": {
      "text/plain": "Index(['Unnamed: 0', 'Unnamed: 2', 'Unnamed: 4', 'Unnamed: 6', 'Unnamed: 7',\n       'Unnamed: 9', 'Unnamed: 10', 'Unnamed: 11', 'Unnamed: 12',\n       'Unnamed: 13'],\n      dtype='object')"
     },
     "metadata": {},
     "execution_count": 3
    }
   ],
   "source": [
    "df2.columns"
   ]
  },
  {
   "cell_type": "code",
   "execution_count": 4,
   "metadata": {},
   "outputs": [],
   "source": [
    "df2.columns = [\"Protocolo\", \"Data Finalização\", \"Fornecedor\", \"UF do Consumidor\", \"Cidade do Consumidor\", \n",
    "              \"Relato do Consumidor\", \"Resposta do Fornecedor\", \"Texto da Avaliação\", \n",
    "              \"Indicador de solução\", \"Nota\"]"
   ]
  },
  {
   "cell_type": "code",
   "execution_count": 5,
   "metadata": {},
   "outputs": [
    {
     "output_type": "execute_result",
     "data": {
      "text/plain": "0          24/04/2019 00:05:15\n1          24/04/2019 00:05:15\n2          24/04/2019 00:05:15\n3          24/04/2019 00:05:15\n4          24/04/2019 00:05:15\n                  ...         \n1047996    26/07/2017 21:47:39\n1047997    26/07/2017 21:46:38\n1047998    26/07/2017 21:43:45\n1047999    26/07/2017 21:43:38\n1048000    26/07/2017 21:35:56\nName: Data Finalização, Length: 1048001, dtype: object"
     },
     "metadata": {},
     "execution_count": 5
    }
   ],
   "source": [
    "df2[\"Data Finalização\"]"
   ]
  },
  {
   "cell_type": "code",
   "execution_count": 6,
   "metadata": {},
   "outputs": [],
   "source": [
    "df2[\"Fornecedor\"]= df2[\"Fornecedor\"].astype('category')\n",
    "df2[\"UF do Consumidor\"]= df2[\"UF do Consumidor\"].astype('category')\n",
    "df2[\"Cidade do Consumidor\"]= df2[\"Cidade do Consumidor\"].astype('category')\n",
    "df2[\"Indicador de solução\"] = df2[\"Indicador de solução\"].astype('category')\n",
    "df2[\"Data Finalização\"] = pd.to_datetime(df2[\"Data Finalização\"], format='%d/%m/%Y %H:%M:%S')"
   ]
  },
  {
   "cell_type": "code",
   "execution_count": 7,
   "metadata": {},
   "outputs": [],
   "source": [
    "ano1 = 2019\n",
    "ano2 = 2018\n",
    "ano3 = 2017"
   ]
  },
  {
   "cell_type": "code",
   "execution_count": 11,
   "metadata": {},
   "outputs": [],
   "source": [
    "ano_2019 = (df2[\"Data Finalização\"].between(str(ano1)+'-01-01 00:00:01', str(ano1)+'-12-31 23:59:59'))\n",
    "ano_2018 = (df2[\"Data Finalização\"].between(str(ano2)+'-01-01 00:00:01', str(ano2)+'-12-31 23:59:59'))\n",
    "ano_2017 = (df2[\"Data Finalização\"].between(str(ano3)+'-01-01 00:00:01', str(ano3)+'-12-31 23:59:59'))"
   ]
  },
  {
   "cell_type": "code",
   "execution_count": 17,
   "metadata": {},
   "outputs": [
    {
     "output_type": "execute_result",
     "data": {
      "text/plain": "217693"
     },
     "metadata": {},
     "execution_count": 17
    }
   ],
   "source": [
    "len(df2[ano_2019])"
   ]
  },
  {
   "cell_type": "code",
   "execution_count": 18,
   "metadata": {},
   "outputs": [],
   "source": [
    "df2[ano_2018].to_excel(\"2018.xlsx\", encoding = \"utf-8\", index=False)"
   ]
  },
  {
   "cell_type": "code",
   "execution_count": null,
   "metadata": {},
   "outputs": [],
   "source": []
  }
 ],
 "metadata": {
  "kernelspec": {
   "display_name": "bi_env",
   "language": "python",
   "name": "bi_env"
  },
  "language_info": {
   "codemirror_mode": {
    "name": "ipython",
    "version": 3
   },
   "file_extension": ".py",
   "mimetype": "text/x-python",
   "name": "python",
   "nbconvert_exporter": "python",
   "pygments_lexer": "ipython3",
   "version": "3.7.7"
  }
 },
 "nbformat": 4,
 "nbformat_minor": 4
}